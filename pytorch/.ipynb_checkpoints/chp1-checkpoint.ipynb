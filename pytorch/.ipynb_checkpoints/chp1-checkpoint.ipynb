{
 "cells": [
  {
   "cell_type": "code",
   "execution_count": 8,
   "metadata": {},
   "outputs": [],
   "source": [
    "from __future__ import print_function\n",
    "import torch"
   ]
  },
  {
   "cell_type": "code",
   "execution_count": 9,
   "metadata": {},
   "outputs": [
    {
     "name": "stdout",
     "output_type": "stream",
     "text": [
      "tensor([[-1.4689e+31,  4.5803e-41, -1.4689e+31],\n",
      "        [ 4.5803e-41,  0.0000e+00,  0.0000e+00],\n",
      "        [ 0.0000e+00,  0.0000e+00,  0.0000e+00],\n",
      "        [ 0.0000e+00,  0.0000e+00,  0.0000e+00],\n",
      "        [-6.9984e+34,  3.0652e-41, -7.4754e+34]])\n",
      "torch.Size([5, 3])\n"
     ]
    }
   ],
   "source": [
    "x = torch.empty(5,3)\n",
    "print(x)\n",
    "print(x.size())"
   ]
  },
  {
   "cell_type": "code",
   "execution_count": 10,
   "metadata": {},
   "outputs": [
    {
     "name": "stdout",
     "output_type": "stream",
     "text": [
      "tensor([[-1.4689e+31,  1.0000e+00, -1.4689e+31],\n",
      "        [ 1.0000e+00,  1.0000e+00,  1.0000e+00],\n",
      "        [ 1.0000e+00,  1.0000e+00,  1.0000e+00],\n",
      "        [ 1.0000e+00,  1.0000e+00,  1.0000e+00],\n",
      "        [-6.9984e+34,  1.0000e+00, -7.4754e+34]], device='cuda:0')\n",
      "tensor([[-1.4689e+31,  1.0000e+00, -1.4689e+31],\n",
      "        [ 1.0000e+00,  1.0000e+00,  1.0000e+00],\n",
      "        [ 1.0000e+00,  1.0000e+00,  1.0000e+00],\n",
      "        [ 1.0000e+00,  1.0000e+00,  1.0000e+00],\n",
      "        [-6.9984e+34,  1.0000e+00, -7.4754e+34]], dtype=torch.float64)\n"
     ]
    }
   ],
   "source": [
    "if torch.cuda.is_available():\n",
    "    device = torch.device(\"cuda\")          # a CUDA device object\n",
    "    y = torch.ones_like(x, device=device)  # directly create a tensor on GPU\n",
    "    x = x.to(device)                       # or just use strings ``.to(\"cuda\")``\n",
    "    z = x + y\n",
    "    print(z)\n",
    "    print(z.to(\"cpu\", torch.double))  "
   ]
  },
  {
   "cell_type": "code",
   "execution_count": 6,
   "metadata": {},
   "outputs": [
    {
     "name": "stdout",
     "output_type": "stream",
     "text": [
      "x is tensor\n"
     ]
    }
   ],
   "source": [
    "if torch.is_tensor(x):\n",
    "    print(\"x is tensor\")"
   ]
  },
  {
   "cell_type": "code",
   "execution_count": 11,
   "metadata": {},
   "outputs": [
    {
     "name": "stdout",
     "output_type": "stream",
     "text": [
      "torch.float32\n"
     ]
    }
   ],
   "source": [
    "print(torch.get_default_dtype())"
   ]
  },
  {
   "cell_type": "code",
   "execution_count": 16,
   "metadata": {},
   "outputs": [
    {
     "name": "stdout",
     "output_type": "stream",
     "text": [
      "num_x is numpy array\n"
     ]
    }
   ],
   "source": [
    "import numpy as np\n",
    "num_x = np.arange(15).reshape(5, 3)\n",
    "if torch.is_storage(num_x):\n",
    "    print(\"num_x is pytorch storage\")\n",
    "else:\n",
    "    print(\"num_x is numpy array\")"
   ]
  },
  {
   "cell_type": "code",
   "execution_count": 21,
   "metadata": {},
   "outputs": [
    {
     "name": "stdout",
     "output_type": "stream",
     "text": [
      "x_num is also not torch storage\n"
     ]
    }
   ],
   "source": [
    "device = torch.device(\"cpu\")\n",
    "x_numpy = x.to(device).numpy()\n",
    "if(torch.is_storage(x_numpy)):\n",
    "    print(\"x_num is pytorch storage\")\n",
    "else:\n",
    "    print(\"x_num is also not torch storage\")"
   ]
  },
  {
   "cell_type": "markdown",
   "metadata": {},
   "source": [
    "### GPU相关"
   ]
  },
  {
   "cell_type": "markdown",
   "metadata": {},
   "source": [
    "指定device选项\n",
    "torch.device\n",
    "支持多stream并行\n",
    "torch.cuda.Stream()"
   ]
  },
  {
   "cell_type": "code",
   "execution_count": 23,
   "metadata": {},
   "outputs": [
    {
     "name": "stdout",
     "output_type": "stream",
     "text": [
      "tensor([4, 6], device='cuda:0')\n"
     ]
    }
   ],
   "source": [
    "device1 = torch.device(\"cuda:0\")\n",
    "device2 = torch.device(\"cuda:0\")\n",
    "x1 = torch.tensor([2, 3], device=device1)\n",
    "x2 = torch.tensor([2, 3], device=device2)\n",
    "x3 = x1 + x2\n",
    "print(x3)"
   ]
  },
  {
   "cell_type": "code",
   "execution_count": null,
   "metadata": {},
   "outputs": [],
   "source": []
  }
 ],
 "metadata": {
  "kernelspec": {
   "display_name": "Python 3",
   "language": "python",
   "name": "python3"
  },
  "language_info": {
   "codemirror_mode": {
    "name": "ipython",
    "version": 3
   },
   "file_extension": ".py",
   "mimetype": "text/x-python",
   "name": "python",
   "nbconvert_exporter": "python",
   "pygments_lexer": "ipython3",
   "version": "3.6.6"
  }
 },
 "nbformat": 4,
 "nbformat_minor": 2
}
