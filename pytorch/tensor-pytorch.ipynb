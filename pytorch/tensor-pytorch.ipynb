{
 "cells": [
  {
   "cell_type": "code",
   "execution_count": 1,
   "metadata": {},
   "outputs": [],
   "source": [
    "import torch\n",
    "import numpy"
   ]
  },
  {
   "cell_type": "code",
   "execution_count": 19,
   "metadata": {},
   "outputs": [
    {
     "name": "stdout",
     "output_type": "stream",
     "text": [
      "tensor([[1, 2, 3],\n",
      "        [4, 5, 6]])\n",
      "2\n",
      "2\n",
      "torch.Size([2, 3])\n",
      "torch.Size([2, 3])\n",
      "6\n"
     ]
    }
   ],
   "source": [
    "temp = torch.tensor([[1,2,3], [4,5,6]])\n",
    "print(temp)\n",
    "print(temp.ndim)\n",
    "print(temp.dim())\n",
    "print(temp.size())\n",
    "print(temp.shape)\n",
    "print(temp.numel())"
   ]
  },
  {
   "cell_type": "code",
   "execution_count": 20,
   "metadata": {},
   "outputs": [
    {
     "name": "stdout",
     "output_type": "stream",
     "text": [
      "dim[0]= 2  dim[1] 3\n"
     ]
    }
   ],
   "source": [
    "shape = temp.shape\n",
    "print(\"dim[0]=\", shape[0], \" dim[1]\", shape[1])"
   ]
  },
  {
   "cell_type": "code",
   "execution_count": 26,
   "metadata": {},
   "outputs": [
    {
     "name": "stdout",
     "output_type": "stream",
     "text": [
      "1\n",
      "2\n",
      "3\n",
      "4\n",
      "5\n",
      "6\n"
     ]
    }
   ],
   "source": [
    "for i in numpy.arange(shape[0]):\n",
    "    for j in numpy.arange(shape[1]):\n",
    "        print(temp[i][j].item())"
   ]
  },
  {
   "cell_type": "code",
   "execution_count": null,
   "metadata": {},
   "outputs": [],
   "source": []
  }
 ],
 "metadata": {
  "kernelspec": {
   "display_name": "Python 3",
   "language": "python",
   "name": "python3"
  },
  "language_info": {
   "codemirror_mode": {
    "name": "ipython",
    "version": 3
   },
   "file_extension": ".py",
   "mimetype": "text/x-python",
   "name": "python",
   "nbconvert_exporter": "python",
   "pygments_lexer": "ipython3",
   "version": "3.6.6"
  }
 },
 "nbformat": 4,
 "nbformat_minor": 2
}
