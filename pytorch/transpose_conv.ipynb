{
 "cells": [
  {
   "cell_type": "code",
   "execution_count": 18,
   "metadata": {},
   "outputs": [],
   "source": [
    "import torch\n",
    "import torch.nn as nn\n",
    "import numpy\n",
    "m = nn.ConvTranspose2d(16, 33, 3, stride=2)\n",
    "m = nn.ConvTranspose2d(16, 33, (3, 5), stride=(2, 1), padding=(4, 2))\n",
    "input = torch.randn(20, 16, 50, 100)\n",
    "output = m(input)"
   ]
  },
  {
   "cell_type": "code",
   "execution_count": 126,
   "metadata": {},
   "outputs": [
    {
     "name": "stdout",
     "output_type": "stream",
     "text": [
      "torch.Size([1, 48, 1, 29840])\n"
     ]
    }
   ],
   "source": [
    "upsample = nn.ConvTranspose2d(96, 48, [1, 10], [1, 5], [0, 3], [0, 1], bias=False)\n",
    "input1 = torch.randn(1, 96, 1, 5968)\n",
    "output1 = upsample(input1)\n",
    "print(output1.shape)"
   ]
  },
  {
   "cell_type": "code",
   "execution_count": 160,
   "metadata": {
    "scrolled": true
   },
   "outputs": [
    {
     "name": "stdout",
     "output_type": "stream",
     "text": [
      "torch.Size([1, 1, 1, 26])\n"
     ]
    }
   ],
   "source": [
    "upsample = nn.ConvTranspose2d(in_channels=1, out_channels=1, kernel_size=[1, 10], stride=[1, 5], padding=[0, 0], \n",
    "                              output_padding=[0, 1], bias=False)\n",
    "input1 = torch.randn(1, 1, 1, 4)\n",
    "output1 = upsample(input1)\n",
    "print(output1.shape)"
   ]
  },
  {
   "cell_type": "code",
   "execution_count": 163,
   "metadata": {},
   "outputs": [
    {
     "name": "stdout",
     "output_type": "stream",
     "text": [
      "0.01530235\n"
     ]
    }
   ],
   "source": [
    "output2 = output1.detach().numpy()\n",
    "print(output2[0, 0, 0, 24])"
   ]
  },
  {
   "cell_type": "code",
   "execution_count": 164,
   "metadata": {},
   "outputs": [
    {
     "name": "stdout",
     "output_type": "stream",
     "text": [
      "tensor([[[[-1.2792,  0.4231,  0.9616,  0.3945]]]])\n",
      "tensor([[[[ 0.1298, -0.2798,  0.3539,  0.1011,  0.3658,  0.2608, -0.1791,\n",
      "           -0.1727, -0.1222, -0.1706, -0.1980,  0.3002, -0.2476, -0.0466,\n",
      "           -0.2586, -0.2683,  0.2905, -0.0673,  0.0355, -0.0755, -0.0937,\n",
      "            0.0838,  0.0172,  0.0274,  0.0153,  0.0000]]]],\n",
      "       grad_fn=<SlowConvTranspose2DBackward>)\n",
      "0.12978078\n"
     ]
    }
   ],
   "source": [
    "print(input1)\n",
    "print(output1)\n",
    "print(output2[0,0,0,0])"
   ]
  },
  {
   "cell_type": "code",
   "execution_count": 165,
   "metadata": {},
   "outputs": [
    {
     "name": "stdout",
     "output_type": "stream",
     "text": [
      "Parameter containing:\n",
      "tensor([[[[-0.1015,  0.2187, -0.2766, -0.0790, -0.2860, -0.2374,  0.2124,\n",
      "            0.0435,  0.0694,  0.0388]]]], requires_grad=True)\n"
     ]
    }
   ],
   "source": [
    "print(upsample.weight)"
   ]
  },
  {
   "cell_type": "code",
   "execution_count": 166,
   "metadata": {},
   "outputs": [
    {
     "name": "stdout",
     "output_type": "stream",
     "text": [
      "None\n"
     ]
    }
   ],
   "source": [
    "print(upsample.bias)"
   ]
  },
  {
   "cell_type": "code",
   "execution_count": 167,
   "metadata": {},
   "outputs": [],
   "source": [
    "weight=upsample.weight.detach().numpy()\n",
    "input1_np=input1.numpy()"
   ]
  },
  {
   "cell_type": "code",
   "execution_count": 168,
   "metadata": {},
   "outputs": [
    {
     "name": "stdout",
     "output_type": "stream",
     "text": [
      "torch.Size([1, 1, 1, 10])\n",
      "-0.0790384\n",
      "-1.2792253\n",
      "0.12978078\n"
     ]
    }
   ],
   "source": [
    "print(upsample.weight.shape)\n",
    "print(weight[0,0,0,3])\n",
    "print(input1_np[0,0,0,0])\n",
    "out0 = weight[0, 0, 0, 0]*input1_np[0,0,0,0]\n",
    "print(out0)"
   ]
  },
  {
   "cell_type": "markdown",
   "metadata": {},
   "source": [
    "# Deconv2d\n",
    "验证在h和w上，卷积weight的顺序是逆序"
   ]
  },
  {
   "cell_type": "code",
   "execution_count": 174,
   "metadata": {},
   "outputs": [
    {
     "name": "stdout",
     "output_type": "stream",
     "text": [
      "torch.Size([1, 1, 6, 6])\n"
     ]
    }
   ],
   "source": [
    "upsample2 = nn.ConvTranspose2d(in_channels=1, out_channels=1, kernel_size=[3, 3], stride=[1, 1], padding=[0, 0], \n",
    "                              output_padding=[0, 0], bias=False)\n",
    "input2 = torch.randn(1, 1, 4, 4)\n",
    "output2 = upsample2(input2)\n",
    "print(output2.shape)"
   ]
  },
  {
   "cell_type": "code",
   "execution_count": 176,
   "metadata": {},
   "outputs": [
    {
     "name": "stdout",
     "output_type": "stream",
     "text": [
      "Parameter containing:\n",
      "tensor([[[[-0.2689, -0.2103,  0.1406],\n",
      "          [-0.0350,  0.3073,  0.2371],\n",
      "          [ 0.1391,  0.2286, -0.2492]]]], requires_grad=True)\n",
      "torch.Size([1, 1, 3, 3])\n"
     ]
    }
   ],
   "source": [
    "print(upsample2.weight)\n",
    "print(upsample2.weight.shape)"
   ]
  },
  {
   "cell_type": "code",
   "execution_count": 185,
   "metadata": {},
   "outputs": [],
   "source": [
    "weight2=upsample2.weight.detach().numpy()\n",
    "input2_np=input2.numpy()"
   ]
  },
  {
   "cell_type": "code",
   "execution_count": 186,
   "metadata": {},
   "outputs": [
    {
     "name": "stdout",
     "output_type": "stream",
     "text": [
      "tensor([[[[ 0.2258,  0.4327,  2.5477,  0.5874],\n",
      "          [-0.8957,  0.4242, -1.3100, -0.2536],\n",
      "          [-1.2626, -0.6155, -1.1006,  0.0755],\n",
      "          [-0.4319, -1.1705, -0.6834, -0.2719]]]])\n"
     ]
    }
   ],
   "source": [
    "print(input2)"
   ]
  },
  {
   "cell_type": "code",
   "execution_count": 187,
   "metadata": {},
   "outputs": [
    {
     "name": "stdout",
     "output_type": "stream",
     "text": [
      "tensor([[[[-0.0607, -0.1638, -0.7443, -0.6329,  0.2348,  0.0826],\n",
      "          [ 0.2329,  0.1286,  0.2343,  1.2684,  0.6538,  0.1036],\n",
      "          [ 0.4023,  0.2527,  0.6087,  0.3876, -1.0599, -0.1959],\n",
      "          [ 0.0358, -0.1066,  0.0571, -0.8751, -0.0082,  0.0429],\n",
      "          [-0.1605, -0.4659, -0.4174, -0.5657,  0.0460, -0.0833],\n",
      "          [-0.0601, -0.2616, -0.2550,  0.0977,  0.1082,  0.0678]]]],\n",
      "       grad_fn=<SlowConvTranspose2DBackward>)\n"
     ]
    }
   ],
   "source": [
    "print(output2)"
   ]
  },
  {
   "cell_type": "code",
   "execution_count": 189,
   "metadata": {},
   "outputs": [
    {
     "name": "stdout",
     "output_type": "stream",
     "text": [
      "-0.26887915\n",
      "-0.06071747\n"
     ]
    }
   ],
   "source": [
    "print(weight2[0,0,0,0])\n",
    "out2_0=weight2[0,0,0,0] * input2_np[0,0,0,0]\n",
    "print(out2_0)"
   ]
  },
  {
   "cell_type": "code",
   "execution_count": null,
   "metadata": {},
   "outputs": [],
   "source": []
  },
  {
   "cell_type": "code",
   "execution_count": null,
   "metadata": {},
   "outputs": [],
   "source": []
  }
 ],
 "metadata": {
  "kernelspec": {
   "display_name": "Python 3",
   "language": "python",
   "name": "python3"
  },
  "language_info": {
   "codemirror_mode": {
    "name": "ipython",
    "version": 3
   },
   "file_extension": ".py",
   "mimetype": "text/x-python",
   "name": "python",
   "nbconvert_exporter": "python",
   "pygments_lexer": "ipython3",
   "version": "3.7.4"
  }
 },
 "nbformat": 4,
 "nbformat_minor": 2
}
