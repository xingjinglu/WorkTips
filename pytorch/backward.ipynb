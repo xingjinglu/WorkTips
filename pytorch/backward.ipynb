{
 "cells": [
  {
   "cell_type": "code",
   "execution_count": 2,
   "metadata": {},
   "outputs": [
    {
     "name": "stdout",
     "output_type": "stream",
     "text": [
      "tensor([1.5024, 0.4178, 0.3391, 0.0000])\n"
     ]
    }
   ],
   "source": [
    "import torch\n",
    "def f(x)->torch.tensor:\n",
    "    result = 1\n",
    "    for ii in x:\n",
    "        if ii.item() > 0: result = ii * result\n",
    "    return result\n",
    "\n",
    "x = torch.tensor([0.3071, 1.1043, 1.3605, -0.3471], requires_grad = True)\n",
    "y = f(x)\n",
    "y.backward()\n",
    "print(x.grad)"
   ]
  },
  {
   "cell_type": "code",
   "execution_count": null,
   "metadata": {},
   "outputs": [],
   "source": []
  }
 ],
 "metadata": {
  "kernelspec": {
   "display_name": "Python 3",
   "language": "python",
   "name": "python3"
  },
  "language_info": {
   "codemirror_mode": {
    "name": "ipython",
    "version": 3
   },
   "file_extension": ".py",
   "mimetype": "text/x-python",
   "name": "python",
   "nbconvert_exporter": "python",
   "pygments_lexer": "ipython3",
   "version": "3.7.4"
  }
 },
 "nbformat": 4,
 "nbformat_minor": 2
}
