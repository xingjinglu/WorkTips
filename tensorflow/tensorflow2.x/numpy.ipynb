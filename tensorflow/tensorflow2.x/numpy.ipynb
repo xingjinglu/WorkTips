{
 "cells": [
  {
   "cell_type": "markdown",
   "id": "2cc81328-b10c-49ad-9b94-dcc534341c99",
   "metadata": {},
   "source": [
    " # 1. list, tuple"
   ]
  },
  {
   "cell_type": "code",
   "execution_count": 5,
   "id": "c035dc92-65c7-4283-93e2-d663faf68e78",
   "metadata": {},
   "outputs": [
    {
     "name": "stdout",
     "output_type": "stream",
     "text": [
      "[1, 2, 3, 4, 5]\n",
      "('x', 'y', 'z')\n"
     ]
    }
   ],
   "source": [
    "x_list = [1, 2, 3, 4, 5]\n",
    "x_tuple = (\"x\", \"y\", \"z\")\n",
    "\n",
    "# tuple can't be modified\n",
    "# x_tuple[1] = \"d\" \n",
    "\n",
    "print(x_list)\n",
    "print(x_tuple)"
   ]
  },
  {
   "cell_type": "code",
   "execution_count": 8,
   "id": "3366d3ae-41ad-4c46-9981-1290a5ff6dd6",
   "metadata": {},
   "outputs": [
    {
     "name": "stdout",
     "output_type": "stream",
     "text": [
      "Using TensorFlow version 2.8.0\n"
     ]
    }
   ],
   "source": [
    "import matplotlib.pyplot as plt\n",
    "import numpy as np\n",
    "import tensorflow as tf\n",
    "import tensorflow.experimental.numpy as tnp\n",
    "import timeit\n",
    "\n",
    "print(\"Using TensorFlow version %s\" % tf.__version__)"
   ]
  },
  {
   "cell_type": "markdown",
   "id": "4c9d4960-00f4-4fd4-9635-2e5af441c5c6",
   "metadata": {},
   "source": [
    "## 2. set"
   ]
  },
  {
   "cell_type": "code",
   "execution_count": 2,
   "id": "368ac53e-73bb-4598-b681-94fa91ef14f0",
   "metadata": {},
   "outputs": [
    {
     "name": "stdout",
     "output_type": "stream",
     "text": [
      "[10, 12, 13, 10, 16, 25, 27]\n",
      "{'12', '10', '27', '13', '16', '25'}\n"
     ]
    }
   ],
   "source": [
    "list2 = [10, 12, 13, 10, 16, 25, 27]\n",
    "set2 = {\"10\", \"12\", \"13\", \"10\", \"16\", \"25\", \"27\"}\n",
    "print(list2)\n",
    "print(set2)"
   ]
  },
  {
   "cell_type": "markdown",
   "id": "774682ca-cddc-4049-ab8a-f9cbd9eb7d9d",
   "metadata": {},
   "source": [
    "## 3. dict"
   ]
  },
  {
   "cell_type": "code",
   "execution_count": 4,
   "id": "47803377-7a00-45c4-a317-12febfaf81c5",
   "metadata": {},
   "outputs": [
    {
     "name": "stdout",
     "output_type": "stream",
     "text": [
      "{1: 'apple', 2: 'banana', 3: 'pear'}\n",
      "banana\n"
     ]
    }
   ],
   "source": [
    "my_dict = {}\n",
    "my_dict = {1:\"apple\", 2:\"banana\", 3:\"pear\"}\n",
    "print(my_dict)\n",
    "print(my_dict[2])"
   ]
  },
  {
   "cell_type": "code",
   "execution_count": null,
   "id": "ef13f622-52f2-4740-b6c2-c481f393aecb",
   "metadata": {},
   "outputs": [],
   "source": []
  }
 ],
 "metadata": {
  "kernelspec": {
   "display_name": "Python 3 (ipykernel)",
   "language": "python",
   "name": "python3"
  },
  "language_info": {
   "codemirror_mode": {
    "name": "ipython",
    "version": 3
   },
   "file_extension": ".py",
   "mimetype": "text/x-python",
   "name": "python",
   "nbconvert_exporter": "python",
   "pygments_lexer": "ipython3",
   "version": "3.9.10"
  }
 },
 "nbformat": 4,
 "nbformat_minor": 5
}
