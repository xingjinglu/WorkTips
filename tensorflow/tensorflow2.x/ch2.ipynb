{
 "cells": [
  {
   "cell_type": "code",
   "execution_count": 6,
   "id": "d07bed66-fef9-4284-8298-bd6551784898",
   "metadata": {},
   "outputs": [],
   "source": [
    "import tensorflow as tf"
   ]
  },
  {
   "cell_type": "code",
   "execution_count": 7,
   "id": "47ff454e-ef67-45e6-9a9a-b6244eef73c5",
   "metadata": {},
   "outputs": [
    {
     "name": "stdout",
     "output_type": "stream",
     "text": [
      "tf.Tensor(\n",
      "[[18 21]\n",
      " [40 47]], shape=(2, 2), dtype=int32)\n"
     ]
    }
   ],
   "source": [
    "A = tf.constant([[1, 2], [3, 4]])\n",
    "B = tf.constant([[4, 5], [7, 8]])\n",
    "C = tf.matmul(A, B)\n",
    "print(C)"
   ]
  },
  {
   "cell_type": "markdown",
   "id": "6a1a796c-79dd-47b7-b008-4d3736aad7a0",
   "metadata": {
    "tags": []
   },
   "source": [
    "# 1.Tensor"
   ]
  },
  {
   "cell_type": "code",
   "execution_count": 8,
   "id": "cd41e67d-db53-44ca-9534-14689e947d94",
   "metadata": {},
   "outputs": [
    {
     "name": "stdout",
     "output_type": "stream",
     "text": [
      "tf.Tensor(0.39043653, shape=(), dtype=float32)\n"
     ]
    }
   ],
   "source": [
    "random_float = tf.random.uniform(shape=())\n",
    "print(random_float)"
   ]
  },
  {
   "cell_type": "code",
   "execution_count": 9,
   "id": "3783cacd-7ff9-442f-869d-a8abaab548a4",
   "metadata": {},
   "outputs": [
    {
     "name": "stdout",
     "output_type": "stream",
     "text": [
      "tf.Tensor([0. 0.], shape=(2,), dtype=float32)\n"
     ]
    }
   ],
   "source": [
    "zero_vector = tf.zeros(shape=(2))\n",
    "print(zero_vector)"
   ]
  },
  {
   "cell_type": "code",
   "execution_count": 10,
   "id": "c6dce41e-5a75-4f70-8c14-92f5c28cba46",
   "metadata": {},
   "outputs": [
    {
     "name": "stdout",
     "output_type": "stream",
     "text": [
      "[<tf.Tensor: shape=(), dtype=float32, numpy=9.0>, <tf.Tensor: shape=(), dtype=float32, numpy=6.0>]\n"
     ]
    }
   ],
   "source": [
    "x = tf.Variable(initial_value = 3.0)\n",
    "with tf.GradientTape() as tape:\n",
    "    y = tf.square(x)\n",
    "y_grad = tape.gradient(y, x)\n",
    "print([y, y_grad])"
   ]
  },
  {
   "cell_type": "code",
   "execution_count": 16,
   "id": "0dd9546b-02d8-4212-93d6-6c35f34d4656",
   "metadata": {},
   "outputs": [
    {
     "name": "stdout",
     "output_type": "stream",
     "text": [
      "tf.Tensor(125.0, shape=(), dtype=float32) tf.Tensor(\n",
      "[[ 70.]\n",
      " [100.]], shape=(2, 1), dtype=float32) tf.Tensor(30.0, shape=(), dtype=float32)\n"
     ]
    }
   ],
   "source": [
    "X = tf.constant([[1., 2.], [3., 4.]])\n",
    "y = tf.constant([[1.], [2.]])\n",
    "w = tf.Variable(initial_value = [[1.], [2.]])\n",
    "b = tf.Variable(initial_value = 1.)\n",
    "with tf.GradientTape() as tape:\n",
    "    L = tf.reduce_sum(tf.square(tf.matmul(X, w) + b - y))\n",
    "w_grad, b_grad = tape.gradient(L, [w, b])\n",
    "print(L, w_grad, b_grad)"
   ]
  },
  {
   "cell_type": "code",
   "execution_count": null,
   "id": "3fe19119-2d09-495a-968d-c8336186b6f5",
   "metadata": {},
   "outputs": [],
   "source": []
  },
  {
   "cell_type": "markdown",
   "id": "b7497cb2-51fb-4c1c-85e2-a9fdd27b7c64",
   "metadata": {},
   "source": [
    "# 2. Gradient: y = tf.square() below with "
   ]
  },
  {
   "cell_type": "code",
   "execution_count": 14,
   "id": "48ae10b5-4669-4c3c-9c16-646ff65e459c",
   "metadata": {},
   "outputs": [
    {
     "name": "stdout",
     "output_type": "stream",
     "text": [
      "[<tf.Tensor: shape=(), dtype=float32, numpy=16.0>, <tf.Tensor: shape=(), dtype=float32, numpy=8.0>]\n"
     ]
    }
   ],
   "source": [
    "import tensorflow as tf\n",
    "\n",
    "x = tf.Variable(initial_value = 4.0)\n",
    "with tf.GradientTape() as tape:\n",
    "    y = tf.square(x)\n",
    "    y_grad = tape.gradient(y, x)\n",
    "print([y, y_grad])"
   ]
  },
  {
   "cell_type": "code",
   "execution_count": null,
   "id": "8b1583be-46b9-43b2-b776-a015f99f0577",
   "metadata": {},
   "outputs": [],
   "source": []
  },
  {
   "cell_type": "markdown",
   "id": "6434f0b9-cbf5-4cc4-8c21-97676a9e2b40",
   "metadata": {},
   "source": [
    "# 3. Numpy Linear"
   ]
  },
  {
   "cell_type": "code",
   "execution_count": 25,
   "id": "929372c0-001f-4558-8820-fc2b73a337b5",
   "metadata": {},
   "outputs": [
    {
     "name": "stdout",
     "output_type": "stream",
     "text": [
      "[0.   0.25 0.5  0.75 1.  ]\n",
      "[0.         0.36363637 0.54545456 0.8181818  1.        ]\n",
      "0.9817775010019512 0.05456800667941586\n"
     ]
    }
   ],
   "source": [
    "import numpy as np\n",
    "\n",
    "# y = a * x + b  \n",
    "x_raw = np.array([2013, 2014, 2015, 2016, 2017], dtype = np.float32)\n",
    "y_raw = np.array([12000, 14000, 15000, 16500, 17500], dtype = np.float32)\n",
    "\n",
    "x = (x_raw - x_raw.min()) / (x_raw.max() - x_raw.min())\n",
    "y = (y_raw - y_raw.min()) / (y_raw.max() - y_raw.min())\n",
    "\n",
    "print(x)\n",
    "print(y)\n",
    "\n",
    "# mina,bL(a, b) = (ax + b  - y)^2\n",
    "# grad_a = 2 * (ax + b - y) * x = 2 * (y_pred - y).dot(x)\n",
    "# grad_b = 2 * (a * x + b - y) * 1 = 2 * (y_pred - y)\n",
    "a, b = 0, 0\n",
    "num_epoch = 10000\n",
    "learning_rate = 1e-3\n",
    "for e in range(num_epoch):\n",
    "    y_pred = a * x + b\n",
    "    grad_a, grad_b = 2 * (y_pred - y).dot(x), 2 * (y_pred - y).sum()\n",
    "    a, b = a - learning_rate * grad_a, b - learning_rate * grad_b\n",
    "print(a, b)"
   ]
  },
  {
   "cell_type": "code",
   "execution_count": null,
   "id": "d3f06567-89e5-464f-9c87-24c9c400e918",
   "metadata": {},
   "outputs": [],
   "source": []
  },
  {
   "cell_type": "code",
   "execution_count": 26,
   "id": "edb35107-4d7c-44b9-bb6d-1e8a62faf4cc",
   "metadata": {},
   "outputs": [
    {
     "name": "stdout",
     "output_type": "stream",
     "text": [
      "30.0\n"
     ]
    }
   ],
   "source": [
    "import numpy as np\n",
    "x = np.array([1, 2, 3, 4], dtype = np.float32)\n",
    "y = np.array([1, 2, 3, 4], dtype = np.float32)\n",
    "z = np.dot(x, y)\n",
    "print(z)"
   ]
  },
  {
   "cell_type": "code",
   "execution_count": 27,
   "id": "7981e8fd-28c6-4537-91b1-a00ebc630301",
   "metadata": {},
   "outputs": [
    {
     "name": "stdout",
     "output_type": "stream",
     "text": [
      "10.0\n"
     ]
    }
   ],
   "source": [
    "x = np.array([1, 2, 3, 4], dtype = np.float32)\n",
    "print(x.sum())"
   ]
  },
  {
   "cell_type": "code",
   "execution_count": 31,
   "id": "b4a685e1-3781-4fc6-af48-47a4f6eb20b9",
   "metadata": {},
   "outputs": [
    {
     "name": "stdout",
     "output_type": "stream",
     "text": [
      "['rudy', 'ruby', 'caocao', 'liubei', 'sunquan']\n",
      "['rudy', 'ruby', 'aman', 'liubei', 'sunquan']\n",
      "sunquan\n",
      "['rudy', 'aman', 'liubei', 'sunquan']\n"
     ]
    }
   ],
   "source": [
    "lists = [\"rudy\", \"ruby\", \"caocao\", \"liubei\", \"sunquan\"]\n",
    "print(lists)\n",
    "lists[2] = \"aman\"\n",
    "print(lists)\n",
    "print(lists[-1])\n",
    "del (lists[1])\n",
    "print(lists)"
   ]
  },
  {
   "cell_type": "markdown",
   "id": "078dee65-e4ca-47c7-9d3f-9e5685c03ce9",
   "metadata": {},
   "source": [
    "# 4. tensorflow linear"
   ]
  },
  {
   "cell_type": "code",
   "execution_count": 40,
   "id": "d1efbe3f-cd05-4a9e-9b6b-5d8f910da4f6",
   "metadata": {},
   "outputs": [
    {
     "name": "stdout",
     "output_type": "stream",
     "text": [
      "<tf.Variable 'Variable:0' shape=() dtype=float32, numpy=0.9817748> <tf.Variable 'Variable:0' shape=() dtype=float32, numpy=0.0545703>\n"
     ]
    }
   ],
   "source": [
    "# X not defined \n",
    "import tensorflow as tf\n",
    "\n",
    "x_raw = np.array([2013, 2014, 2015, 2016, 2017], dtype = np.float32)\n",
    "y_raw = np.array([12000, 14000, 15000, 16500, 17500], dtype = np.float32)\n",
    "\n",
    "x = (x_raw - x_raw.min()) / (x_raw.max() - x_raw.min())\n",
    "y = (y_raw - y_raw.min()) / (y_raw.max() - y_raw.min())\n",
    "\n",
    "x = tf.constant(x)\n",
    "y = tf.constant(y)\n",
    "\n",
    "a = tf.Variable(initial_value = 0.)\n",
    "b = tf.Variable(initial_value = 0.)\n",
    "variables = [a, b]\n",
    "\n",
    "num_epoch = 10000\n",
    "optimizer = tf.keras.optimizers.SGD(learning_rate = 1e-3)\n",
    "for e in range(num_epoch):\n",
    "    with tf.GradientTape() as tape:\n",
    "        y_pred = a * x + b\n",
    "        loss = tf.reduce_sum(tf.square(y_pred - y))\n",
    "        \n",
    "    grads = tape.gradient(loss, variables)\n",
    "    optimizer.apply_gradients(grads_and_vars = zip(grads, variables))\n",
    "\n",
    "\n",
    "print(a, b)\n"
   ]
  },
  {
   "cell_type": "code",
   "execution_count": 53,
   "id": "fdcbfdfe-c310-4237-a55d-d4eb0eabafe9",
   "metadata": {},
   "outputs": [
    {
     "name": "stdout",
     "output_type": "stream",
     "text": [
      "['x', 'y', 'zz', 'a', 'b', 1, 2, 3, 4, 5]\n",
      "5 1\n",
      "5 2\n",
      "5 3\n",
      "5 4\n",
      "5 5\n"
     ]
    }
   ],
   "source": [
    "y = (\"x\", \"y\", \"z\", \"a\", \"b\")\n",
    "x = [1, 2, 3, 4, 5]\n",
    "c = list(y)\n",
    "c[2] = \"zz\"\n",
    "c.extend(x)\n",
    "print(c)\n",
    "for i in x:\n",
    "    print(len(x), i)"
   ]
  },
  {
   "cell_type": "code",
   "execution_count": null,
   "id": "e5e97ca4-8c2c-4860-920c-c7bbbfa1d534",
   "metadata": {},
   "outputs": [],
   "source": []
  },
  {
   "cell_type": "code",
   "execution_count": null,
   "id": "0c6b2ce8-68bf-4182-9c5d-4ba66ff16e19",
   "metadata": {},
   "outputs": [],
   "source": []
  },
  {
   "cell_type": "code",
   "execution_count": null,
   "id": "1f791494-704c-4b5d-90a5-46420cb4891b",
   "metadata": {},
   "outputs": [],
   "source": []
  }
 ],
 "metadata": {
  "kernelspec": {
   "display_name": "Python 3 (ipykernel)",
   "language": "python",
   "name": "python3"
  },
  "language_info": {
   "codemirror_mode": {
    "name": "ipython",
    "version": 3
   },
   "file_extension": ".py",
   "mimetype": "text/x-python",
   "name": "python",
   "nbconvert_exporter": "python",
   "pygments_lexer": "ipython3",
   "version": "3.9.10"
  }
 },
 "nbformat": 4,
 "nbformat_minor": 5
}
