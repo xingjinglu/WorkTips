{
 "cells": [
  {
   "cell_type": "code",
   "execution_count": 23,
   "metadata": {},
   "outputs": [
    {
     "name": "stdout",
     "output_type": "stream",
     "text": [
      "3\n",
      "[1, 2, 10, 5]\n",
      "1\n",
      "2\n",
      "10\n",
      "5\n",
      "(1, 2, 3, 4)\n",
      "{'mom': 'Ma', 'son': 'Rudy'}\n",
      "mom\n",
      "son\n",
      "wife\n",
      "{'son': 'Rudy', 'wife': 'wang'}\n",
      "{}\n",
      "I am in beijing, china\n"
     ]
    }
   ],
   "source": [
    "# list\n",
    "num_list = [1, 2, 3, 5]\n",
    "print(num_list[2])\n",
    "num_list[2] = 10\n",
    "print(num_list)\n",
    "\n",
    "for item in num_list:\n",
    "    print(item)\n",
    "\n",
    "# Tuple\n",
    "num_tuple = (1, 2, 3, 4)\n",
    "print(num_tuple)\n",
    "\n",
    "#num_tuple[2] = 11\n",
    "\n",
    "# Dictionary\n",
    "num_dic = {\"mom\": \"Ma\", \"son\": \"Rudy\"}\n",
    "print(num_dic)\n",
    "\n",
    "num_dic [\"wife\"] = \"wang\"\n",
    "\n",
    "for key in num_dic:\n",
    "    print(key)\n",
    "del num_dic[\"mom\"]\n",
    "print(num_dic)\n",
    "num_dic.clear()\n",
    "print(num_dic)\n",
    "\n",
    "captial = \"beijing\"\n",
    "country = \"china\"\n",
    "if country == \"china\" and captial == \"beijing\":\n",
    "    flag = True\n",
    "else:\n",
    "    flag = False\n",
    "\n",
    "\n",
    "if flag:\n",
    "    print(\"I am in beijing, china\")\n"
   ]
  },
  {
   "cell_type": "code",
   "execution_count": 27,
   "metadata": {},
   "outputs": [
    {
     "name": "stdout",
     "output_type": "stream",
     "text": [
      "d\n",
      "0 h\n",
      "1 e\n",
      "2 l\n",
      "3 l\n",
      "4 o\n",
      "5  \n",
      "6 w\n",
      "7 o\n",
      "8 r\n",
      "9 l\n",
      "10 d\n",
      "unicode str\n",
      "Hello\n",
      "buddy\n"
     ]
    }
   ],
   "source": [
    "# String\n",
    "str = \"hello world\"\n",
    "print(str[-1])\n",
    "\n",
    "for i, c in enumerate(str):\n",
    "    print(i, c)\n",
    "\n",
    "str2 = u\"unicode str\"\n",
    "print(str2)\n",
    "\n",
    "str3 = u'''Hello\n",
    "buddy'''\n",
    "print(str3)"
   ]
  },
  {
   "cell_type": "code",
   "execution_count": null,
   "metadata": {},
   "outputs": [],
   "source": []
  },
  {
   "cell_type": "code",
   "execution_count": null,
   "metadata": {},
   "outputs": [],
   "source": [
    "for i in range(2):\n",
    "  print(\"hello\")\n",
    "\n",
    "#for j in range(None):\n",
    "#  print(\"hello\")\n",
    "\n",
    "var = 10\n",
    "if var < 11:\n",
    "    print(\"less\")\n",
    "elif var > 12:\n",
    "    print(\"large\")\n",
    "else:\n",
    "    print(\"else\")\n",
    "        "
   ]
  }
 ],
 "metadata": {
  "kernelspec": {
   "display_name": "Python 3",
   "language": "python",
   "name": "python3"
  },
  "language_info": {
   "codemirror_mode": {
    "name": "ipython",
    "version": 3
   },
   "file_extension": ".py",
   "mimetype": "text/x-python",
   "name": "python",
   "nbconvert_exporter": "python",
   "pygments_lexer": "ipython3",
   "version": "3.7.2"
  }
 },
 "nbformat": 4,
 "nbformat_minor": 2
}
